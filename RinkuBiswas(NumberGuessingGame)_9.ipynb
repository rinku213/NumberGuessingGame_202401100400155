{
  "nbformat": 4,
  "nbformat_minor": 0,
  "metadata": {
    "colab": {
      "provenance": []
    },
    "kernelspec": {
      "name": "python3",
      "display_name": "Python 3"
    },
    "language_info": {
      "name": "python"
    }
  },
  "cells": [
    {
      "cell_type": "code",
      "execution_count": 1,
      "metadata": {
        "colab": {
          "base_uri": "https://localhost:8080/"
        },
        "id": "cfYuiTvyVgAB",
        "outputId": "7f803731-0c31-4227-f512-592b8ce0a1f7"
      },
      "outputs": [
        {
          "output_type": "stream",
          "name": "stdout",
          "text": [
            "You are welcome in Guessing game\n",
            "I am guessing a number can you guess it\n",
            "do you need any help : yes\n",
            "The secret number is odd.\n",
            "Enter your guess: 36\n",
            "Too high! Try again.\n",
            "Enter your guess: 26\n",
            "Too high! Try again.\n",
            "Enter your guess: 24\n",
            "Too high! Try again.\n",
            "Enter your guess: 12\n",
            "Too high! Try again.\n",
            "Enter your guess: 6\n",
            "Too high! Try again.\n",
            "Enter your guess: 4\n",
            "Too low! Try again.\n",
            "Enter your guess: 3\n",
            "Too low! Try again.\n",
            "Enter your guess: 5\n",
            "Congratulations! You've guessed the number in 8 attempts.\n",
            "You got 30 points\n"
          ]
        }
      ],
      "source": [
        "import random\n",
        "print(\"You are welcome in Guessing game\")\n",
        "\n",
        "print(\"I am guessing a number can you guess it\")\n",
        "secret_number = random.randint(1, 100)\n",
        "\n",
        "attempt=0\n",
        "guess_correctly=False\n",
        "initial_point=100\n",
        "if secret_number%2==0:\n",
        "  yes=0\n",
        "if secret_number%2 !=0:\n",
        "  yes=1\n",
        "\n",
        "#Ask user if he/she wants help\n",
        "need=input(\"do you need any help : \")\n",
        "if need == 'yes':\n",
        "    if yes == 0:\n",
        "        print(\"The secret number is even.\")\n",
        "    else:\n",
        "        print(\"The secret number is odd.\")\n",
        "else:\n",
        "    print(\"Awesome! Let's do it.\")\n",
        "\n",
        "while not guess_correctly:\n",
        "\n",
        "   # Get the user's guess\n",
        "            user_guess = int(input(\"Enter your guess: \"))\n",
        "            attempt += 1\n",
        "            if attempt>15:\n",
        "              print(\"You have reached maximum limit of guessing,Try next time\")\n",
        "              break\n",
        "\n",
        "            # Check the guess\n",
        "            if user_guess < secret_number:\n",
        "                print(\"Too low! Try again.\")\n",
        "                initial_point=initial_point-10\n",
        "            elif user_guess >  secret_number:\n",
        "                print(\"Too high! Try again.\")\n",
        "                initial_point=initial_point-10\n",
        "\n",
        "            else:\n",
        "                print(f\"Congratulations! You've guessed the number in {attempt} attempts.\")\n",
        "                print(f\"You got {initial_point} points\")\n",
        "                guess_correctly = True"
      ]
    }
  ]
}